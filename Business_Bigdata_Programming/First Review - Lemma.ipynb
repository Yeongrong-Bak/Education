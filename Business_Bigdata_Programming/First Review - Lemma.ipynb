{
 "cells": [
  {
   "cell_type": "code",
   "execution_count": 28,
   "metadata": {},
   "outputs": [],
   "source": [
    "import nltk\n",
    "\n",
    "from nltk.corpus import stopwords\n",
    "\n",
    "lemmatizer = nltk.wordnet.WordNetLemmatizer()\n",
    "\n",
    "stopWords = stopwords.words('english')\n",
    "\n",
    "with open('C:/Users/user/result_t.txt', 'r', encoding = 'utf-8') as f:\n",
    "    \n",
    "    lines = f.readlines()\n",
    "    \n",
    "    f.close()    "
   ]
  },
  {
   "cell_type": "code",
   "execution_count": 29,
   "metadata": {},
   "outputs": [],
   "source": [
    "firstReview = lines[0]\n",
    "\n",
    "tokens = nltk.word_tokenize(firstReview)\n",
    "\n",
    "lemmas= []"
   ]
  },
  {
   "cell_type": "code",
   "execution_count": 30,
   "metadata": {},
   "outputs": [
    {
     "name": "stdout",
     "output_type": "stream",
     "text": [
      "Lemmas of the first review: \n",
      "['Every', 'conversation', 'turn', '``', 'favorite', 'movie', '.', \"''\", \"'ll\", 'mention', 'Titanic', ',', 'least', 'couple', 'people', 'snicker', '.', 'pay', 'mind', 'know', 'five', 'year', 'ago', ',', 'people', 'moved', 'tear', 'movie', '.', \"'re\", 'embarrassed', 'admit', 'it.I', 'rewatched', 'Titanic', 'first', 'time', 'long', 'time', '.', 'Expecting', 'simply', 'enjoy', 'story', ',', 'surprised', 'find', 'movie', 'lost', 'none', 'power', 'five', 'year', '.', 'cried', '...', '.', 'place', '.', 'brought', 'back', '1997', 'remember', 'movie', 'one', 'thought', 'would', 'break', 'even', 'became', 'popular', 'movie', 'time', '.', 'movie', 'burst', 'public', 'consciousness', 'like', 'movie', 'recall', '(', 'yes', ',', 'even', 'Star', 'Wars', ')', '.', 'today', ',', 'many', 'people', 'wo', \"n't\", 'even', 'admit', 'enjoyed', '.', 'Folks', ',', 'let', \"'s\", 'get', 'something', 'straight', '--', \"n't\", 'look', 'cool', 'badmouth', 'film', '.', 'look', 'like', 'touch', 'cynic.No', 'movie', 'perfect', 'one', 'fault', '.', 'dialogue', 'fall', 'flat', ',', 'plot', 'surrounding', 'two', 'lover', 'come', 'together', 'little', 'neatly', '.', 'However', ',', 'none', 'distracting', 'ruin', 'film.Leonardo', 'DiCaprio', 'Kate', 'Winslet', 'wonderful', '.', 'Leo', 'one', 'fine', 'actor', 'generation', '.', 'Wait', \"'til\", 'see', 'Gangs', 'New', 'York', 'call', 'nothing', 'pretty', 'boy', '.', 'Kate', 'Winslet', 'strong', 'film', '.', 'movie', 'really', ',', 'held', 'together', 'beautifully.James', 'Cameron', 'managed', 'many', 'believed', 'impossible', 'recreating', 'completely', 'believable', 'Titanic', '.', 'sinking', 'scene', 'horrific', ',', 'night', '.', 'anyone', 'say', 'effect', 'bad', 'beyond', '.', 'utterly', 'transfixed.This', 'film', 'one', 'memorable', 'scene', 'another', '.', 'Titanic', 'leaving', 'port', 'Southampton', '.', 'Rose', 'Jack', 'bow', ',', '``', 'flying', \"''\", '.', '``', 'Iceberg', ',', 'right', 'ahead', '!', \"''\", 'screw', 'hanging', 'unbelievably', 'ocean', '.', 'scream', 'doomed', 'went', '.', 'ending', 'brought', 'even', 'burliest', 'man', 'theater', 'tears.The', 'music', ',', 'also', 'victim', 'film', \"'s\", 'success', ',', 'key', 'ingredient', '.', 'James', 'Horner', \"'s\", 'score', 'simply', 'perfect', '.', 'love', 'theme', 'beautiful', 'tragic', '.', 'bad', 'Celine', 'Dion', \"'s\", 'pop', 'song', 'version', 'destroy', 'great', 'bit', 'music', 'many.I', 'confess', ',', 'Titanic', 'buff', '.', ',', 'relished', 'opportunity', 'see', 'ship', 'never', 'got', 'see', '--', 'beauty', '.', 'Perhaps', 'watching', 'sink', 'affected', \"'ve\", 'interest', 'ship', 'life', '.', 'However', ',', 'doubt', 'many', 'saw', 'cry', 'Titanic', 'buff', '.', 'applaud', 'Cameron', 'bringing', 'story', 'mass', 'way', 'never', 'demeaned', 'tragedy', '.', 'film', 'made', 'humanity.Another', 'reviewer', 'said', 'better', 'ever', 'could', ':', 'Open', 'heart', 'Titanic', ',', 'disappointed', '.']\n"
     ]
    }
   ],
   "source": [
    "for token in tokens:\n",
    "    \n",
    "    if token.lower() not in stopWords:\n",
    "        \n",
    "        lemmas.append(lemmatizer.lemmatize(token))\n",
    "        \n",
    "print('Lemmas of the first review: ')\n",
    "\n",
    "print(lemmas)"
   ]
  }
 ],
 "metadata": {
  "kernelspec": {
   "display_name": "Python 3",
   "language": "python",
   "name": "python3"
  },
  "language_info": {
   "codemirror_mode": {
    "name": "ipython",
    "version": 3
   },
   "file_extension": ".py",
   "mimetype": "text/x-python",
   "name": "python",
   "nbconvert_exporter": "python",
   "pygments_lexer": "ipython3",
   "version": "3.6.1"
  }
 },
 "nbformat": 4,
 "nbformat_minor": 2
}
