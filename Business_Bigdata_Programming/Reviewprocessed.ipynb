{
 "cells": [
  {
   "cell_type": "code",
   "execution_count": 1,
   "metadata": {
    "collapsed": true
   },
   "outputs": [],
   "source": [
    "import nltk\n",
    "\n",
    "from nltk.corpus import stopwords\n",
    "\n",
    "lemmatizer = nltk.wordnet.WordNetLemmatizer()\n",
    "\n",
    "stopWords = stopwords.words('english')\n",
    "\n",
    "with open('C:/Users/user/result_t.txt', 'r', encoding = 'utf-8') as f:\n",
    "    \n",
    "    lines = f.readlines()\n",
    "    \n",
    "    f.close()\n",
    "    \n",
    "reviewProcessedList = []"
   ]
  },
  {
   "cell_type": "code",
   "execution_count": 2,
   "metadata": {
    "collapsed": true
   },
   "outputs": [],
   "source": [
    "for line in lines:\n",
    "    \n",
    "    reviewProcessed = ''\n",
    "    \n",
    "    tokens = nltk.word_tokenize(line)\n",
    "    \n",
    "    for token in tokens:\n",
    "        if token.lower() not in stopWords:\n",
    "            reviewProcessed += ' ' + lemmatizer.lemmatize(token)\n",
    "            \n",
    "    reviewProcessedList.append(reviewProcessed)\n",
    "    \n",
    "with open('C:/Users/user/result_t3.txt', 'w' , encoding = 'utf-8') as f:\n",
    "    \n",
    "    for reviewProcessed in reviewProcessedList:\n",
    "        \n",
    "        f.write(reviewProcessed + '\\n')\n",
    "    \n",
    "    f.close()\n"
   ]
  }
 ],
 "metadata": {
  "kernelspec": {
   "display_name": "Python 3",
   "language": "python",
   "name": "python3"
  },
  "language_info": {
   "codemirror_mode": {
    "name": "ipython",
    "version": 3
   },
   "file_extension": ".py",
   "mimetype": "text/x-python",
   "name": "python",
   "nbconvert_exporter": "python",
   "pygments_lexer": "ipython3",
   "version": "3.6.1"
  }
 },
 "nbformat": 4,
 "nbformat_minor": 2
}
