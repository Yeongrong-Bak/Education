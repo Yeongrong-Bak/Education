{
 "cells": [
  {
   "cell_type": "code",
   "execution_count": null,
   "metadata": {
    "collapsed": true
   },
   "outputs": [],
   "source": [
    "# nltk 모듈 불러오기\n",
    "\n",
    "import nltk\n",
    "from nltk import word_tokenize\n",
    "\n",
    "# nltk의 WordNetLematizer를 불러와 lemmatizer 변수에 저장한다.\n",
    "lemmatizer = nltk.wordnet.WordNetLemmatizer()\n",
    "\n",
    "# 전처리 하고자 하는 문장을 String 변수로 저장한다.\n",
    "sent1 = 'My only regret in life is that I did not drink more wine.'\n",
    "sent2 = 'I drink to make other people more interestin.'\n",
    "sent3 = 'An intelligent man is sometimes forced to be drunk to spend time with his fools.'\n",
    "\n",
    "print('Lemmatizing Sentence 1:')\n",
    "lemma 1 = []\n",
    "tokens1 = nltk.word_tokenize(sent1)\n",
    "for token in tokens1:\n",
    "    lemma1.append(lemmatizer.lemmatize(token))\n",
    "print(lemma1)"
   ]
  },
  {
   "cell_type": "code",
   "execution_count": null,
   "metadata": {
    "collapsed": true
   },
   "outputs": [],
   "source": []
  },
  {
   "cell_type": "code",
   "execution_count": null,
   "metadata": {
    "collapsed": true
   },
   "outputs": [],
   "source": [
    "\n"
   ]
  }
 ],
 "metadata": {
  "kernelspec": {
   "display_name": "Python 3",
   "language": "python",
   "name": "python3"
  },
  "language_info": {
   "codemirror_mode": {
    "name": "ipython",
    "version": 3
   },
   "file_extension": ".py",
   "mimetype": "text/x-python",
   "name": "python",
   "nbconvert_exporter": "python",
   "pygments_lexer": "ipython3",
   "version": "3.6.1"
  }
 },
 "nbformat": 4,
 "nbformat_minor": 2
}
