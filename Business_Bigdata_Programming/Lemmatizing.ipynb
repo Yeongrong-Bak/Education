{
 "cells": [
  {
   "cell_type": "code",
   "execution_count": 4,
   "metadata": {},
   "outputs": [
    {
     "name": "stdout",
     "output_type": "stream",
     "text": [
      "Lemmatizing Sentence 1:\n",
      "['My', 'only', 'regret', 'in', 'life', 'is', 'that', 'I', 'did', 'not', 'drink', 'more', 'wine', '.']\n",
      "Lemmatizing Sentence 2:\n",
      "['I', 'drink', 'to', 'make', 'other', 'people', 'more', 'interesting', '.']\n"
     ]
    }
   ],
   "source": [
    "# nltk 모듈 불러오기\n",
    "\n",
    "import nltk\n",
    "\n",
    "from nltk import word_tokenize\n",
    "\n",
    "# nltk의 WordNetLematizer를 불러와 lemmatizer 변수에 저장한다.\n",
    "\n",
    "lemmatizer = nltk.wordnet.WordNetLemmatizer()\n",
    "\n",
    "# 전처리 하고자 하는 문장을 String 변수로 저장한다.\n",
    "\n",
    "sent1 = 'My only regret in life is that I did not drink more wine.'\n",
    "\n",
    "sent2 = 'I drink to make other people more interesting.'\n",
    "\n",
    "sent3 = 'An intelligent man is sometimes forced to be drunk to spend time with his fools.'\n",
    "\n",
    "print('Lemmatizing Sentence 1:')\n",
    "\n",
    "lemma1 = []\n",
    "\n",
    "tokens1 = nltk.word_tokenize(sent1)\n",
    "\n",
    "for token in tokens1:\n",
    "    lemma1.append(lemmatizer.lemmatize(token))\n",
    "    \n",
    "print(lemma1)\n",
    "\n",
    "print('Lemmatizing Sentence 2:')\n",
    "\n",
    "lemma2 = []\n",
    "\n",
    "tokens2 = nltk.word_tokenize(sent2)\n",
    "\n",
    "for token in tokens2:\n",
    "    lemma2.append(lemmatizer.lemmatize(token))\n",
    "    \n",
    "print(lemma2)"
   ]
  },
  {
   "cell_type": "code",
   "execution_count": 6,
   "metadata": {},
   "outputs": [
    {
     "data": {
      "text/plain": [
       "'do'"
      ]
     },
     "execution_count": 6,
     "metadata": {},
     "output_type": "execute_result"
    }
   ],
   "source": [
    "lemmatizer.lemmatize('did', 'v')"
   ]
  },
  {
   "cell_type": "code",
   "execution_count": 7,
   "metadata": {},
   "outputs": [
    {
     "data": {
      "text/plain": [
       "'apple'"
      ]
     },
     "execution_count": 7,
     "metadata": {},
     "output_type": "execute_result"
    }
   ],
   "source": [
    "lemmatizer.lemmatize('apples')"
   ]
  },
  {
   "cell_type": "code",
   "execution_count": null,
   "metadata": {
    "collapsed": true
   },
   "outputs": [],
   "source": []
  }
 ],
 "metadata": {
  "kernelspec": {
   "display_name": "Python 3",
   "language": "python",
   "name": "python3"
  },
  "language_info": {
   "codemirror_mode": {
    "name": "ipython",
    "version": 3
   },
   "file_extension": ".py",
   "mimetype": "text/x-python",
   "name": "python",
   "nbconvert_exporter": "python",
   "pygments_lexer": "ipython3",
   "version": "3.6.1"
  }
 },
 "nbformat": 4,
 "nbformat_minor": 2
}
