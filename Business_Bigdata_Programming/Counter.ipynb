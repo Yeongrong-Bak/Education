{
 "cells": [
  {
   "cell_type": "code",
   "execution_count": 1,
   "metadata": {
    "collapsed": true
   },
   "outputs": [],
   "source": [
    "# 리뷰의 명사 추출\n",
    "\n",
    "import nltk\n",
    "\n",
    "from collections import Counter\n",
    "\n",
    "nounList = []"
   ]
  },
  {
   "cell_type": "code",
   "execution_count": 4,
   "metadata": {},
   "outputs": [
    {
     "name": "stdout",
     "output_type": "stream",
     "text": [
      "[('movie', 296), ('film', 290), ('titanic', 269), ('ship', 163), ('story', 142), ('cameron', 134), ('rose', 133), ('time', 129), ('jack', 108), ('people', 99)]\n"
     ]
    }
   ],
   "source": [
    "with open('C:/Users/user/result_t.txt', 'r', encoding = 'utf-8') as f:\n",
    "    lines = f.readlines()\n",
    "    f.close()\n",
    "    \n",
    "for line in lines:\n",
    "    tokens = nltk.word_tokenize(line)\n",
    "    \n",
    "    tags = nltk.pos_tag(tokens)\n",
    "    \n",
    "    for word, tag in tags:\n",
    "        \n",
    "        if tag in ['NN', 'NNS', 'NNP', 'NNPS']:\n",
    "        \n",
    "            nounList.append(word.lower())\n",
    "            \n",
    "counts = Counter(nounList)\n",
    "\n",
    "print(counts.most_common(10))"
   ]
  },
  {
   "cell_type": "code",
   "execution_count": 8,
   "metadata": {
    "collapsed": true
   },
   "outputs": [],
   "source": [
    "# 리뷰의 형용사 추출\n",
    "\n",
    "import nltk\n",
    "\n",
    "from collections import Counter\n",
    "\n",
    "adjList = []"
   ]
  },
  {
   "cell_type": "code",
   "execution_count": 7,
   "metadata": {},
   "outputs": [
    {
     "name": "stdout",
     "output_type": "stream",
     "text": [
      "[('good', 124), ('many', 116), ('other', 106), ('great', 104), ('special', 104), ('first', 102), ('much', 100), ('more', 78), ('such', 74), ('real', 72)]\n"
     ]
    }
   ],
   "source": [
    "with open('C:/Users/user/result_t.txt', 'r', encoding = 'utf-8') as f:\n",
    "    lines = f.readlines()\n",
    "    f.close()\n",
    "    \n",
    "for line in lines:\n",
    "    \n",
    "    tokens = nltk.word_tokenize(line)\n",
    "    \n",
    "    tags = nltk.pos_tag(tokens)\n",
    "    \n",
    "    for word, tag in tags:\n",
    "        \n",
    "        if tag in [ 'JJ', 'JJR', 'JS']:\n",
    "            \n",
    "            adjList.append(word.lower())\n",
    "            \n",
    "counts = Counter(adjList)\n",
    "\n",
    "print(counts.most_common(10))"
   ]
  }
 ],
 "metadata": {
  "kernelspec": {
   "display_name": "Python 3",
   "language": "python",
   "name": "python3"
  },
  "language_info": {
   "codemirror_mode": {
    "name": "ipython",
    "version": 3
   },
   "file_extension": ".py",
   "mimetype": "text/x-python",
   "name": "python",
   "nbconvert_exporter": "python",
   "pygments_lexer": "ipython3",
   "version": "3.6.1"
  }
 },
 "nbformat": 4,
 "nbformat_minor": 2
}
